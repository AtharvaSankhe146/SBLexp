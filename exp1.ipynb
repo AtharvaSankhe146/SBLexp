{
 "cells": [
  {
   "cell_type": "markdown",
   "id": "8c0babf8-c442-4de5-a2d3-f0d76d52cf64",
   "metadata": {},
   "source": [
    "### String in Python"
   ]
  },
  {
   "cell_type": "code",
   "execution_count": 1,
   "id": "55fe3f6b-8287-46fa-9531-31c54b0348e9",
   "metadata": {},
   "outputs": [
    {
     "name": "stdout",
     "output_type": "stream",
     "text": [
      "This is a string\n",
      "This is a string\n",
      "This is a string\n"
     ]
    }
   ],
   "source": [
    "# Assigning string to a variable\n",
    "a = 'This is a string'\n",
    "print (a)\n",
    "b = \"This is a string\"\n",
    "print (b)\n",
    "c= '''This is a string'''\n",
    "print (c)"
   ]
  },
  {
   "cell_type": "markdown",
   "id": "3a3a2b19-f111-44f4-b869-4e2928ab7e44",
   "metadata": {},
   "source": [
    "### Lists in python"
   ]
  },
  {
   "cell_type": "code",
   "execution_count": 2,
   "id": "27628508-1d37-42b2-ab06-eaf95483880b",
   "metadata": {},
   "outputs": [
    {
     "name": "stdout",
     "output_type": "stream",
     "text": [
      "[1, 'a', 'string', 3]\n",
      "[1, 'a', 'string', 3, 6]\n",
      "[1, 'a', 'string', 3]\n",
      "a\n"
     ]
    }
   ],
   "source": [
    "# Declaring a list\n",
    "L = [1, \"a\" , \"string\" , 1+2]\n",
    "print (L)\n",
    "#Adding an element in the list\n",
    "L.append(6) \n",
    "print (L)\n",
    "#Deleting last element from a list\n",
    "L.pop()\n",
    "print (L)\n",
    "#Displaying Second element of the list\n",
    "print (L[1])"
   ]
  },
  {
   "cell_type": "markdown",
   "id": "b0a75621-a867-44c1-86b3-0745f7a4f29b",
   "metadata": {},
   "source": [
    "### Tuple in Python"
   ]
  },
  {
   "cell_type": "code",
   "execution_count": 7,
   "id": "8552f658-147a-400b-91da-bbeb839a6fa5",
   "metadata": {},
   "outputs": [
    {
     "name": "stdout",
     "output_type": "stream",
     "text": [
      "(1, 'a', 'string', 3)\n",
      "a\n"
     ]
    }
   ],
   "source": [
    "tup = (1, \"a\", \"string\", 1+2)\n",
    "print(tup)\n",
    "print(tup[1])\n",
    "\n"
   ]
  },
  {
   "cell_type": "markdown",
   "id": "210d0141-1eb5-4867-85c6-17c91f992530",
   "metadata": {},
   "source": [
    "### Dictionaries in Python"
   ]
  },
  {
   "cell_type": "code",
   "execution_count": 8,
   "id": "a8cafdb1-be20-4fd2-bad8-a0f59c429ed7",
   "metadata": {},
   "outputs": [
    {
     "name": "stdout",
     "output_type": "stream",
     "text": [
      "{1: 'Lorem', 2: 'Ipsum', 3: 'Dolerum'}\n"
     ]
    }
   ],
   "source": [
    "d = {1: 'Lorem', 2: 'Ipsum', 3: 'Dolerum'}\n",
    "print(d)"
   ]
  },
  {
   "cell_type": "markdown",
   "id": "fcea3926-44ac-411d-a3c3-44fe2d237f50",
   "metadata": {},
   "source": [
    "### Create a Dictionary"
   ]
  },
  {
   "cell_type": "code",
   "execution_count": 9,
   "id": "33abac91-5e4e-47fb-b3f1-8e9fb838cb00",
   "metadata": {},
   "outputs": [
    {
     "name": "stdout",
     "output_type": "stream",
     "text": [
      "{1: 'Game', 2: 'of', 3: 'Thrones'}\n",
      "{'a': 'House', 'b': 'of', 'c': 'Cards'}\n"
     ]
    }
   ],
   "source": [
    "# create dictionary using { }\n",
    "d1 = {1: 'Game', 2: 'of', 3: 'Thrones'}\n",
    "print(d1)\n",
    "\n",
    "# create dictionary using dict() constructor\n",
    "d2 = dict(a = \"House\", b = \"of\", c = \"Cards\")\n",
    "print(d2)"
   ]
  },
  {
   "cell_type": "markdown",
   "id": "66db1356-aed4-4d31-aa16-165088ea0968",
   "metadata": {},
   "source": [
    "### Accessing Dictionary Items"
   ]
  },
  {
   "cell_type": "code",
   "execution_count": 11,
   "id": "7eca5328-aecb-4de4-a64b-f36c439085aa",
   "metadata": {},
   "outputs": [
    {
     "name": "stdout",
     "output_type": "stream",
     "text": [
      "Atharva\n",
      "Atharva\n"
     ]
    }
   ],
   "source": [
    "d = { \"name\": \"Atharva\", 1: \"Python\", (1, 2): [1,2,4] }\n",
    "\n",
    "# Access using key\n",
    "print(d[\"name\"])\n",
    "\n",
    "# Access using get()\n",
    "print(d.get(\"name\"))"
   ]
  },
  {
   "cell_type": "markdown",
   "id": "256cdafb-3d5a-4bc9-93d0-29d00f0d3bf8",
   "metadata": {},
   "source": [
    "### Adding and Updating Dictionary Items"
   ]
  },
  {
   "cell_type": "code",
   "execution_count": 12,
   "id": "f40d8972-f3cc-4463-ae2c-a7c88d0f56d6",
   "metadata": {},
   "outputs": [
    {
     "name": "stdout",
     "output_type": "stream",
     "text": [
      "{1: 'Python dict', 2: 'of', 3: 'Thrones', 'age': 22}\n"
     ]
    }
   ],
   "source": [
    "d = {1: 'Game', 2: 'of', 3: 'Thrones'}\n",
    "\n",
    "# Adding a new key-value pair\n",
    "d[\"age\"] = 22\n",
    "\n",
    "# Updating an existing value\n",
    "d[1] = \"Python dict\"\n",
    "\n",
    "print(d)"
   ]
  },
  {
   "cell_type": "markdown",
   "id": "dce8f395-fe84-426f-97e7-b942294a38c1",
   "metadata": {},
   "source": [
    "### Deleting and Updating Dictionary Items"
   ]
  },
  {
   "cell_type": "code",
   "execution_count": 17,
   "id": "c9fea8d4-1b9f-410a-bc74-2178189eab37",
   "metadata": {},
   "outputs": [
    {
     "name": "stdout",
     "output_type": "stream",
     "text": [
      "{'b': 10, 'c': 3, 'd': 4}\n"
     ]
    }
   ],
   "source": [
    "dict = {'a': 1, 'b': 2, 'c': 3}\n",
    "del dict['a']\n",
    "dict['b'] = 10\n",
    "dict['d'] = 4\n",
    "print(dict)"
   ]
  }
 ],
 "metadata": {
  "kernelspec": {
   "display_name": "Python 3 (ipykernel)",
   "language": "python",
   "name": "python3"
  },
  "language_info": {
   "codemirror_mode": {
    "name": "ipython",
    "version": 3
   },
   "file_extension": ".py",
   "mimetype": "text/x-python",
   "name": "python",
   "nbconvert_exporter": "python",
   "pygments_lexer": "ipython3",
   "version": "3.12.3"
  }
 },
 "nbformat": 4,
 "nbformat_minor": 5
}
