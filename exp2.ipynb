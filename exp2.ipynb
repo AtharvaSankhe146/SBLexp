{
  "metadata": {
    "kernelspec": {
      "name": "python",
      "display_name": "Python (Pyodide)",
      "language": "python"
    },
    "language_info": {
      "codemirror_mode": {
        "name": "python",
        "version": 3
      },
      "file_extension": ".py",
      "mimetype": "text/x-python",
      "name": "python",
      "nbconvert_exporter": "python",
      "pygments_lexer": "ipython3",
      "version": "3.8"
    }
  },
  "nbformat_minor": 5,
  "nbformat": 4,
  "cells": [
    {
      "id": "6fd7d1f7-b24e-46bc-80f7-c1456c277877",
      "cell_type": "code",
      "source": "class Employee:\n    def __init__ (\n            self,\n            designation : str = 'Developer',\n            frontend : bool = True,\n            backend : bool = False\n    ):\n        self.designation = designation\n        self.frontend = frontend\n        self.backend = backend\n\n    def __repr__ (self):\n        return '{},{},{}'.format (self.designation, self.frontend, self.backend)\n    \n    \n    def verifier (self):\n        if(self.frontend==True and self.backend==True):\n            return 'Fullstack'\n        elif(self.frontend==True or self.backend==True):\n            if(self.frontend==True):\n                return 'Frontend {}'.format (self.designation)\n            else:\n                 return 'Backend {}'.format (self.designation)\n        else:\n            return 'Not a Developer'\n        \n\nif __name__ == '__main__':\n    firstEmployee = Employee ()\n    print(firstEmployee.verifier())\n",
      "metadata": {
        "trusted": true
      },
      "outputs": [
        {
          "name": "stdout",
          "output_type": "stream",
          "text": "Frontend Developer\n"
        }
      ],
      "execution_count": 9
    },
    {
      "id": "54b60d4a-0a1d-41a1-be9f-ed25883cd644",
      "cell_type": "code",
      "source": "",
      "metadata": {
        "trusted": true
      },
      "outputs": [],
      "execution_count": null
    }
  ]
}